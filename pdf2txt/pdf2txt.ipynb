{
 "cells": [
  {
   "cell_type": "code",
   "execution_count": 7,
   "id": "f0827b3e-4418-49cb-bd0e-33a91ecf9c07",
   "metadata": {},
   "outputs": [
    {
     "data": {
      "text/plain": [
       "\"\\nwith pdfplumber.open(info) as pdf:\\n    for page in pdf.pages:\\n        text = page.extract_text()#提取文本\\n        txt_file = open(oufo,mode='a',encoding='utf-8')\\n        txt_file.write(text)\\n\""
      ]
     },
     "execution_count": 7,
     "metadata": {},
     "output_type": "execute_result"
    }
   ],
   "source": [
    "import pdfplumber\n",
    "\n",
    "#提取整个PDF\n",
    "info = \"/Users/anbosmac/Documents/present/intern_n_project/Knowledge_Consulting/test4trans.pdf\"\n",
    "oufo = \"/Users/anbosmac/Documents/present/intern_n_project/Knowledge_Consulting/test4trans.txt\"\n",
    "with pdfplumber.open(info) as pdf, open(oufo, mode='a', encoding='utf-8') as txt_file:\n",
    "    for page in pdf.pages:\n",
    "        text = page.extract_text()  # 提取文本\n",
    "        txt_file.write(text)\n",
    "'''\n",
    "with pdfplumber.open(info) as pdf:\n",
    "    for page in pdf.pages:\n",
    "        text = page.extract_text()#提取文本\n",
    "        txt_file = open(oufo,mode='a',encoding='utf-8')\n",
    "        txt_file.write(text)\n",
    "        #这个方法也可以，就是效率低了，反复读取和关闭文件没必要orz --Anbo\n",
    "'''"
   ]
  },
  {
   "cell_type": "code",
   "execution_count": 8,
   "id": "85123da8-9b76-4a10-a683-30c810ee40cb",
   "metadata": {},
   "outputs": [],
   "source": [
    "# 去掉文中多余的回车\n",
    "#import fitz\n",
    "import time\n",
    "import re\n",
    "import os\n",
    "import sys\n",
    "import numpy as np\n",
    "\n",
    "f = open(oufo,encoding='utf-8')\n",
    "lines = f.readlines()\n",
    "arr = [len(line) for line in lines]\n",
    "length = np.median(arr)\n",
    "string = \"\"\n",
    "for line in lines:\n",
    "    if line[-1] == '\\n':\n",
    "        string += line[:-1]  # 去掉句尾的回车\n",
    "    else:\n",
    "        string += line\n",
    "formatted_text = re.sub(r'。', '。\\n', string)\n",
    "\n",
    "with open(\"/Users/anbosmac/Documents/present/intern_n_project/Knowledge_Consulting/test4trans.txt\", \"w\",encoding='utf-8') as f:\n",
    "    f.write(formatted_text)"
   ]
  }
 ],
 "metadata": {
  "kernelspec": {
   "display_name": "Python 3 (ipykernel)",
   "language": "python",
   "name": "python3"
  },
  "language_info": {
   "codemirror_mode": {
    "name": "ipython",
    "version": 3
   },
   "file_extension": ".py",
   "mimetype": "text/x-python",
   "name": "python",
   "nbconvert_exporter": "python",
   "pygments_lexer": "ipython3",
   "version": "3.8.18"
  }
 },
 "nbformat": 4,
 "nbformat_minor": 5
}
