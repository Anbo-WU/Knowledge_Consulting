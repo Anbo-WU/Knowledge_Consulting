{
 "cells": [
  {
   "cell_type": "code",
   "execution_count": 3,
   "id": "93777aa0-5abb-4d1b-8a20-f203c9b56fcb",
   "metadata": {},
   "outputs": [],
   "source": [
    "import os\n",
    "\n",
    "# 定义常量\n",
    "CHUNK_SIZE = 20011\n",
    "OVERLAP = 300\n",
    "\n",
    "def split_text_file(input_file_path):\n",
    "    \"\"\"\n",
    "    读取文本文件，按照固定字符数分割，并将结果保存在新的文件中。\n",
    "    \n",
    "    参数:\n",
    "    - input_file_path: 原始文本文件的路径\n",
    "    \"\"\"\n",
    "    # 确定输出文件的目录和原文件名\n",
    "    dir_path, file_name = os.path.split(input_file_path)\n",
    "    file_base_name, _ = os.path.splitext(file_name)\n",
    "    \n",
    "    # 读取原始文本内容\n",
    "    with open(input_file_path, 'r', encoding='utf-8') as f:\n",
    "        text = f.read()\n",
    "    \n",
    "    # 初始化\n",
    "    head_index = 0\n",
    "    part_num = 1\n",
    "    \n",
    "    # 循环分割文本\n",
    "    while head_index < len(text):\n",
    "        # 计算分割结束的索引\n",
    "        end_index = min(head_index + CHUNK_SIZE, len(text))\n",
    "        # 提取子文本\n",
    "        sub_text = text[head_index:end_index]\n",
    "        \n",
    "        # 保存分割后的文本到新文件\n",
    "        output_file_path = os.path.join(dir_path, f\"{file_base_name}_part_{part_num}.txt\")\n",
    "        with open(output_file_path, 'w', encoding='utf-8') as f:\n",
    "            f.write(sub_text)\n",
    "        \n",
    "        # 更新索引和部分编号\n",
    "        head_index += CHUNK_SIZE - OVERLAP\n",
    "        part_num += 1\n",
    "\n",
    "# 示例使用\n",
    "# 注意替换下面的路径为你的实际文件路径\n",
    "input_file_path = \"/Users/anbosmac/Documents/present/intern_n_project/Knowledge_Consulting/text_segmentation/test4trans.txt\"\n",
    "split_text_file(input_file_path)\n"
   ]
  }
 ],
 "metadata": {
  "kernelspec": {
   "display_name": "Python 3 (ipykernel)",
   "language": "python",
   "name": "python3"
  },
  "language_info": {
   "codemirror_mode": {
    "name": "ipython",
    "version": 3
   },
   "file_extension": ".py",
   "mimetype": "text/x-python",
   "name": "python",
   "nbconvert_exporter": "python",
   "pygments_lexer": "ipython3",
   "version": "3.8.18"
  }
 },
 "nbformat": 4,
 "nbformat_minor": 5
}
